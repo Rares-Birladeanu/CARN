{
 "cells": [
  {
   "metadata": {
    "ExecuteTime": {
     "end_time": "2024-10-21T11:52:06.282831Z",
     "start_time": "2024-10-21T11:52:06.280026Z"
    }
   },
   "cell_type": "code",
   "source": [
    "import torch\n",
    "import pandas as pd\n",
    "from torch import nn, Tensor\n",
    "from torch.utils.data import Dataset, DataLoader\n",
    "from torchvision.datasets import CIFAR100\n",
    "from torchvision.transforms import v2\n",
    "from torch.backends import cudnn\n",
    "from torch import GradScaler\n",
    "from torch import optim\n",
    "from tqdm import tqdm"
   ],
   "id": "7db8dc3610b648e",
   "outputs": [],
   "execution_count": 75
  },
  {
   "metadata": {
    "ExecuteTime": {
     "end_time": "2024-10-21T11:52:06.298035Z",
     "start_time": "2024-10-21T11:52:06.290518Z"
    }
   },
   "cell_type": "code",
   "source": [
    "device = torch.device('cuda')\n",
    "cudnn.benchmark = True\n",
    "pin_memory = True\n",
    "enable_half = True\n",
    "scaler = GradScaler(device, enabled=enable_half)\n"
   ],
   "id": "2a78eb210b9e0997",
   "outputs": [],
   "execution_count": 76
  },
  {
   "metadata": {
    "ExecuteTime": {
     "end_time": "2024-10-21T11:52:06.307809Z",
     "start_time": "2024-10-21T11:52:06.305276Z"
    }
   },
   "cell_type": "code",
   "source": [
    "class SimpleCachedDataset(Dataset):\n",
    "    def __init__(self, dataset):\n",
    "        self.data = tuple([x for x in dataset])\n",
    "\n",
    "    def __len__(self):\n",
    "        return len(self.data)\n",
    "\n",
    "    def __getitem__(self, i):\n",
    "        return self.data[i]\n"
   ],
   "id": "d5ad207dd73b5751",
   "outputs": [],
   "execution_count": 77
  },
  {
   "metadata": {
    "ExecuteTime": {
     "end_time": "2024-10-21T11:52:15.029348Z",
     "start_time": "2024-10-21T11:52:06.314990Z"
    }
   },
   "cell_type": "code",
   "source": [
    "basic_transforms = v2.Compose([\n",
    "    v2.ToImage(),\n",
    "    v2.ToDtype(torch.float32, scale=True),\n",
    "    v2.Normalize((0.5071, 0.4867, 0.4408), (0.2675, 0.2565, 0.2761), inplace=True)\n",
    "])\n",
    "\n",
    "normal_transforms = v2.Compose([\n",
    "    v2.ToImage(),\n",
    "    v2.ToDtype(torch.float32, scale=True),\n",
    "    v2.Normalize((0.5071, 0.4867, 0.4408), (0.2675, 0.2565, 0.2761), inplace=True)\n",
    "])\n",
    "\n",
    "train_set = CIFAR100('/kaggle/input/fii-atnn-2024-assignment-2', download=True, train=True, transform=basic_transforms)\n",
    "test_set = CIFAR100('/kaggle/input/fii-atnn-2024-assignment-2', download=True, train=False, transform=normal_transforms)\n",
    "train_set = SimpleCachedDataset(train_set)\n",
    "test_set = SimpleCachedDataset(test_set)\n",
    "\n",
    "train_loader = DataLoader(train_set, batch_size=64, shuffle=True, pin_memory=pin_memory)\n",
    "test_loader = DataLoader(test_set, batch_size=64, pin_memory=pin_memory)"
   ],
   "id": "7936668b9722458",
   "outputs": [
    {
     "name": "stdout",
     "output_type": "stream",
     "text": [
      "Files already downloaded and verified\n",
      "Files already downloaded and verified\n"
     ]
    }
   ],
   "execution_count": 78
  },
  {
   "metadata": {
    "ExecuteTime": {
     "end_time": "2024-10-21T11:52:15.040160Z",
     "start_time": "2024-10-21T11:52:15.034955Z"
    }
   },
   "cell_type": "code",
   "source": [
    "class VGG16(nn.Module):\n",
    "    def __init__(self):\n",
    "        super(VGG16, self).__init__()\n",
    "\n",
    "        self.layers = nn.Sequential(\n",
    "            # Block 1\n",
    "            nn.Conv2d(3, 64, kernel_size=3, padding=1),\n",
    "            nn.BatchNorm2d(64),\n",
    "            nn.ReLU(inplace=True),\n",
    "            nn.Conv2d(64, 64, kernel_size=3, padding=1),\n",
    "            nn.BatchNorm2d(64),\n",
    "            nn.ReLU(inplace=True),\n",
    "            nn.MaxPool2d(kernel_size=2, stride=2),\n",
    "            # Block 2\n",
    "            nn.Conv2d(64, 128, kernel_size=3, padding=1),\n",
    "            nn.BatchNorm2d(128),\n",
    "            nn.ReLU(inplace=True),\n",
    "            nn.Conv2d(128, 128, kernel_size=3, padding=1),\n",
    "            nn.BatchNorm2d(128),\n",
    "            nn.ReLU(inplace=True),\n",
    "            nn.MaxPool2d(kernel_size=2, stride=2),\n",
    "            # Block 3\n",
    "            nn.Conv2d(128, 256, kernel_size=3, padding=1),\n",
    "            nn.BatchNorm2d(256),\n",
    "            nn.ReLU(inplace=True),\n",
    "            nn.Conv2d(256, 256, kernel_size=3, padding=1),\n",
    "            nn.BatchNorm2d(256),\n",
    "            nn.ReLU(inplace=True),\n",
    "            nn.Conv2d(256, 256, kernel_size=3, padding=1),\n",
    "            nn.BatchNorm2d(256),\n",
    "            nn.ReLU(inplace=True),\n",
    "            nn.MaxPool2d(kernel_size=2, stride=2),\n",
    "            # Block 4\n",
    "            nn.Conv2d(256, 512, kernel_size=3, padding=1),\n",
    "            nn.BatchNorm2d(512),\n",
    "            nn.ReLU(inplace=True),\n",
    "            nn.Conv2d(512, 512, kernel_size=3, padding=1),\n",
    "            nn.BatchNorm2d(512),\n",
    "            nn.ReLU(inplace=True),\n",
    "            nn.Conv2d(512, 512, kernel_size=3, padding=1),\n",
    "            nn.BatchNorm2d(512),\n",
    "            nn.ReLU(inplace=True),\n",
    "            nn.MaxPool2d(kernel_size=2, stride=2),\n",
    "            # Block 5\n",
    "            nn.Conv2d(512, 512, kernel_size=3, padding=1),\n",
    "            nn.BatchNorm2d(512),\n",
    "            nn.ReLU(inplace=True),\n",
    "            nn.Conv2d(512, 512, kernel_size=3, padding=1),\n",
    "            nn.BatchNorm2d(512),\n",
    "            nn.ReLU(inplace=True),\n",
    "            nn.Conv2d(512, 512, kernel_size=3, padding=1),\n",
    "            nn.BatchNorm2d(512),\n",
    "            nn.ReLU(inplace=True),\n",
    "            nn.MaxPool2d(kernel_size=2, stride=2),\n",
    "            # Classifier\n",
    "            nn.Flatten(),\n",
    "            nn.Linear(512, 100)\n",
    "        )\n",
    "\n",
    "    def forward(self, x: Tensor) -> Tensor:\n",
    "        return self.layers(x)\n"
   ],
   "id": "755d9cc05cb25b1d",
   "outputs": [],
   "execution_count": 79
  },
  {
   "metadata": {
    "ExecuteTime": {
     "end_time": "2024-10-21T11:52:15.158097Z",
     "start_time": "2024-10-21T11:52:15.045774Z"
    }
   },
   "cell_type": "code",
   "source": [
    "model = VGG16().to(device)\n",
    "model = torch.jit.script(model)\n",
    "criterion = nn.CrossEntropyLoss(label_smoothing=0.25)\n",
    "optimizer = optim.SGD(model.parameters(), lr=0.03, momentum=0.9, weight_decay=5e-4, nesterov=True, fused=True)\n",
    "scheduler = optim.lr_scheduler.ReduceLROnPlateau(optimizer, mode='max', factor=0.12, patience=4)\n"
   ],
   "id": "62e1d56d390405a4",
   "outputs": [],
   "execution_count": 80
  },
  {
   "metadata": {
    "ExecuteTime": {
     "end_time": "2024-10-21T11:52:15.166785Z",
     "start_time": "2024-10-21T11:52:15.163361Z"
    }
   },
   "cell_type": "code",
   "source": [
    "def train():\n",
    "        model.train()\n",
    "        correct = 0\n",
    "        total = 0\n",
    "\n",
    "        for inputs, targets in train_loader:\n",
    "\n",
    "            inputs, targets = inputs.to(device, non_blocking=True), targets.to(device, non_blocking=True)\n",
    "            with torch.autocast(device.type, enabled=enable_half):\n",
    "                outputs = model(inputs)\n",
    "                loss = criterion(outputs, targets)\n",
    "            scaler.scale(loss).backward()\n",
    "            scaler.step(optimizer)\n",
    "            scaler.update()\n",
    "            optimizer.zero_grad()\n",
    "\n",
    "            predicted = outputs.argmax(1)\n",
    "            total += targets.size(0)\n",
    "            correct += predicted.eq(targets).sum().item()\n",
    "        return 100.0 * correct / total\n"
   ],
   "id": "623b984fae2eb45f",
   "outputs": [],
   "execution_count": 81
  },
  {
   "metadata": {
    "ExecuteTime": {
     "end_time": "2024-10-21T11:52:15.175914Z",
     "start_time": "2024-10-21T11:52:15.173350Z"
    }
   },
   "cell_type": "code",
   "source": [
    "@torch.inference_mode()\n",
    "def val():\n",
    "    model.eval()\n",
    "    correct = 0\n",
    "    total = 0\n",
    "\n",
    "    for inputs, targets in test_loader:\n",
    "        inputs, targets = inputs.to(device, non_blocking=True), targets.to(device, non_blocking=True)\n",
    "        with torch.autocast(device.type, enabled=enable_half):\n",
    "            outputs = model(inputs)\n",
    "\n",
    "        predicted = outputs.argmax(1)\n",
    "        total += targets.size(0)\n",
    "        correct += predicted.eq(targets).sum().item()\n",
    "\n",
    "    return 100.0 * correct / total"
   ],
   "id": "dacc8b865861f17e",
   "outputs": [],
   "execution_count": 82
  },
  {
   "metadata": {
    "ExecuteTime": {
     "end_time": "2024-10-21T11:52:15.184908Z",
     "start_time": "2024-10-21T11:52:15.182586Z"
    }
   },
   "cell_type": "code",
   "source": [
    "@torch.inference_mode()\n",
    "def inference():\n",
    "    model.eval()\n",
    "\n",
    "    labels = []\n",
    "\n",
    "    for inputs, _ in test_loader:\n",
    "        inputs = inputs.to(device, non_blocking=True)\n",
    "        with torch.autocast(device.type, enabled=enable_half):\n",
    "            outputs = model(inputs)\n",
    "\n",
    "        predicted = outputs.argmax(1).tolist()\n",
    "        labels.extend(predicted)\n",
    "\n",
    "    return labels"
   ],
   "id": "ba752ee367bc00da",
   "outputs": [],
   "execution_count": 83
  },
  {
   "metadata": {
    "ExecuteTime": {
     "end_time": "2024-10-21T12:14:27.966667Z",
     "start_time": "2024-10-21T11:52:15.191214Z"
    }
   },
   "cell_type": "code",
   "source": [
    "best = 0.0\n",
    "epochs = list(range(100))\n",
    "with tqdm(epochs) as tbar:\n",
    "    for epoch in tbar:\n",
    "\n",
    "        train_acc = train()\n",
    "        val_acc = val()\n",
    "        scheduler.step(val_acc)\n",
    "\n",
    "        if val_acc > best:\n",
    "            best = val_acc\n",
    "\n",
    "        tbar.set_description(f\"Train: {train_acc:.2f}, Val: {val_acc:.2f}, Best: {best:.2f}\")"
   ],
   "id": "807ceac428d81a80",
   "outputs": [
    {
     "name": "stderr",
     "output_type": "stream",
     "text": [
      "Train: 99.91, Val: 63.62, Best: 63.85: 100%|██████████| 100/100 [22:12<00:00, 13.33s/it]\n"
     ]
    }
   ],
   "execution_count": 84
  },
  {
   "metadata": {
    "ExecuteTime": {
     "end_time": "2024-10-21T12:14:28.823950Z",
     "start_time": "2024-10-21T12:14:28.091620Z"
    }
   },
   "cell_type": "code",
   "source": [
    "data = {\n",
    "    \"ID\": [],\n",
    "    \"target\": []\n",
    "}\n",
    "\n",
    "\n",
    "for i, label in enumerate(inference()):\n",
    "    data[\"ID\"].append(i)\n",
    "    data[\"target\"].append(label)\n",
    "\n",
    "df = pd.DataFrame(data)\n",
    "df.to_csv(\"submission.csv\", index=False)"
   ],
   "id": "d28a25485ceeacd1",
   "outputs": [],
   "execution_count": 85
  },
  {
   "cell_type": "code",
   "id": "initial_id",
   "metadata": {
    "collapsed": true,
    "ExecuteTime": {
     "end_time": "2024-10-21T12:14:28.834780Z",
     "start_time": "2024-10-21T12:14:28.832762Z"
    }
   },
   "source": [
    ""
   ],
   "outputs": [],
   "execution_count": null
  }
 ],
 "metadata": {
  "kernelspec": {
   "display_name": "Python 3",
   "language": "python",
   "name": "python3"
  },
  "language_info": {
   "codemirror_mode": {
    "name": "ipython",
    "version": 2
   },
   "file_extension": ".py",
   "mimetype": "text/x-python",
   "name": "python",
   "nbconvert_exporter": "python",
   "pygments_lexer": "ipython2",
   "version": "2.7.6"
  }
 },
 "nbformat": 4,
 "nbformat_minor": 5
}
