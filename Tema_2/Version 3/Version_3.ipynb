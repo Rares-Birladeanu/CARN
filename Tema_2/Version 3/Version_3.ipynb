{
 "cells": [
  {
   "metadata": {
    "ExecuteTime": {
     "end_time": "2024-10-19T12:19:31.780503Z",
     "start_time": "2024-10-19T12:19:31.778465Z"
    }
   },
   "cell_type": "code",
   "source": "",
   "id": "ac9c68ef380476d5",
   "outputs": [],
   "execution_count": null
  },
  {
   "metadata": {
    "ExecuteTime": {
     "end_time": "2024-10-19T12:19:35.425389Z",
     "start_time": "2024-10-19T12:19:31.782510Z"
    }
   },
   "cell_type": "code",
   "source": [
    "import torch\n",
    "from torch import nn, Tensor\n",
    "from torch.utils.data import Dataset, DataLoader\n",
    "from torchvision.datasets import CIFAR100\n",
    "import pandas as pd\n",
    "from torchvision.transforms import v2\n",
    "from torch.backends import cudnn\n",
    "from torch import GradScaler\n",
    "from torch import optim\n",
    "from tqdm import tqdm"
   ],
   "id": "d7df3e7b2c47a5a2",
   "outputs": [],
   "execution_count": 1
  },
  {
   "metadata": {
    "ExecuteTime": {
     "end_time": "2024-10-19T12:19:35.534582Z",
     "start_time": "2024-10-19T12:19:35.531190Z"
    }
   },
   "cell_type": "code",
   "source": [
    "device = torch.device('cuda')\n",
    "cudnn.benchmark = True\n",
    "pin_memory = True\n",
    "enable_half = True  # Disable for CPU, it is slower!\n",
    "scaler = GradScaler(device, enabled=enable_half)"
   ],
   "id": "ab837779573e9cf7",
   "outputs": [],
   "execution_count": 2
  },
  {
   "metadata": {
    "ExecuteTime": {
     "end_time": "2024-10-19T12:19:35.544423Z",
     "start_time": "2024-10-19T12:19:35.541515Z"
    }
   },
   "cell_type": "code",
   "source": [
    "class SimpleCachedDataset(Dataset):\n",
    "    def __init__(self, dataset):\n",
    "        # Runtime transforms are not implemented in this simple cached dataset.\n",
    "        self.data = tuple([x for x in dataset])\n",
    "\n",
    "    def __len__(self):\n",
    "        return len(self.data)\n",
    "\n",
    "    def __getitem__(self, i):\n",
    "        return self.data[i]"
   ],
   "id": "78d5131d25ed75c0",
   "outputs": [],
   "execution_count": 3
  },
  {
   "metadata": {
    "ExecuteTime": {
     "end_time": "2024-10-19T12:19:44.269199Z",
     "start_time": "2024-10-19T12:19:35.552131Z"
    }
   },
   "cell_type": "code",
   "source": [
    "basic_transforms = v2.Compose([\n",
    "    v2.ToImage(),\n",
    "    v2.ToDtype(torch.float32, scale=True),\n",
    "    v2.Normalize((0.5071, 0.4867, 0.4408), (0.2675, 0.2565, 0.2761), inplace=True) # CIFAR100 mean and std\n",
    "])\n",
    "train_set = CIFAR100('/kaggle/input/fii-atnn-2024-assignment-2', download=True, train=True, transform=basic_transforms)\n",
    "test_set = CIFAR100('/kaggle/input/fii-atnn-2024-assignment-2', download=True, train=False, transform=basic_transforms)\n",
    "train_set = SimpleCachedDataset(train_set)\n",
    "test_set = SimpleCachedDataset(test_set)\n",
    "\n",
    "train_loader = DataLoader(train_set, batch_size=32, shuffle=True, pin_memory=pin_memory) #change batch size to 32\n",
    "test_loader = DataLoader(test_set, batch_size=64, pin_memory=pin_memory) #change batch size to 64"
   ],
   "id": "6998dd9a9c04b30f",
   "outputs": [
    {
     "name": "stdout",
     "output_type": "stream",
     "text": [
      "Files already downloaded and verified\n",
      "Files already downloaded and verified\n"
     ]
    }
   ],
   "execution_count": 4
  },
  {
   "metadata": {
    "ExecuteTime": {
     "end_time": "2024-10-19T12:19:44.291938Z",
     "start_time": "2024-10-19T12:19:44.286536Z"
    }
   },
   "cell_type": "code",
   "source": [
    "class VGG16(nn.Module):\n",
    "    def __init__(self):\n",
    "        super(VGG16, self).__init__()\n",
    "\n",
    "        self.layers = nn.Sequential(\n",
    "            # Block 1\n",
    "            nn.Conv2d(3, 64, kernel_size=3, padding=1),\n",
    "            nn.BatchNorm2d(64),\n",
    "            nn.ReLU(inplace=True),\n",
    "            nn.Conv2d(64, 64, kernel_size=3, padding=1),\n",
    "            nn.BatchNorm2d(64),\n",
    "            nn.ReLU(inplace=True),\n",
    "            nn.MaxPool2d(kernel_size=2, stride=2),\n",
    "            # Block 2\n",
    "            nn.Conv2d(64, 128, kernel_size=3, padding=1),\n",
    "            nn.BatchNorm2d(128),\n",
    "            nn.ReLU(inplace=True),\n",
    "            nn.Conv2d(128, 128, kernel_size=3, padding=1),\n",
    "            nn.BatchNorm2d(128),\n",
    "            nn.ReLU(inplace=True),\n",
    "            nn.MaxPool2d(kernel_size=2, stride=2),\n",
    "            # Block 3\n",
    "            nn.Conv2d(128, 256, kernel_size=3, padding=1),\n",
    "            nn.BatchNorm2d(256),\n",
    "            nn.ReLU(inplace=True),\n",
    "            nn.Conv2d(256, 256, kernel_size=3, padding=1),\n",
    "            nn.BatchNorm2d(256),\n",
    "            nn.ReLU(inplace=True),\n",
    "            nn.Conv2d(256, 256, kernel_size=3, padding=1),\n",
    "            nn.BatchNorm2d(256),\n",
    "            nn.ReLU(inplace=True),\n",
    "            nn.MaxPool2d(kernel_size=2, stride=2),\n",
    "            # Block 4\n",
    "            nn.Conv2d(256, 512, kernel_size=3, padding=1),\n",
    "            nn.BatchNorm2d(512),\n",
    "            nn.ReLU(inplace=True),\n",
    "            nn.Conv2d(512, 512, kernel_size=3, padding=1),\n",
    "            nn.BatchNorm2d(512),\n",
    "            nn.ReLU(inplace=True),\n",
    "            nn.Conv2d(512, 512, kernel_size=3, padding=1),\n",
    "            nn.BatchNorm2d(512),\n",
    "            nn.ReLU(inplace=True),\n",
    "            nn.MaxPool2d(kernel_size=2, stride=2),\n",
    "            # Block 5\n",
    "            nn.Conv2d(512, 512, kernel_size=3, padding=1),\n",
    "            nn.BatchNorm2d(512),\n",
    "            nn.ReLU(inplace=True),\n",
    "            nn.Conv2d(512, 512, kernel_size=3, padding=1),\n",
    "            nn.BatchNorm2d(512),\n",
    "            nn.ReLU(inplace=True),\n",
    "            nn.Conv2d(512, 512, kernel_size=3, padding=1),\n",
    "            nn.BatchNorm2d(512),\n",
    "            nn.ReLU(inplace=True),\n",
    "            nn.MaxPool2d(kernel_size=2, stride=2),\n",
    "            # Classifier\n",
    "            nn.Flatten(),\n",
    "            nn.Linear(512, 100)\n",
    "        )\n",
    "\n",
    "    def forward(self, x: Tensor) -> Tensor:\n",
    "        return self.layers(x)"
   ],
   "id": "ea3afd679cbc82de",
   "outputs": [],
   "execution_count": 5
  },
  {
   "metadata": {
    "ExecuteTime": {
     "end_time": "2024-10-19T12:19:44.595536Z",
     "start_time": "2024-10-19T12:19:44.297758Z"
    }
   },
   "cell_type": "code",
   "source": [
    "model = VGG16().to(device)\n",
    "model = torch.jit.script(model)\n",
    "criterion = nn.CrossEntropyLoss()\n",
    "optimizer = optim.Adam(model.parameters(), lr=0.0001) # Change optimizer to Adam with lr=0.0001\n",
    "scheduler = optim.lr_scheduler.ReduceLROnPlateau(optimizer, mode='max', factor=0.5, patience=3) # Added scheduler\n"
   ],
   "id": "1c6881a519e54104",
   "outputs": [],
   "execution_count": 6
  },
  {
   "metadata": {
    "ExecuteTime": {
     "end_time": "2024-10-19T12:19:44.605187Z",
     "start_time": "2024-10-19T12:19:44.601493Z"
    }
   },
   "cell_type": "code",
   "source": [
    "def train():\n",
    "    model.train()\n",
    "    correct = 0\n",
    "    total = 0\n",
    "    \n",
    "    for inputs, targets in train_loader:\n",
    "        inputs, targets = inputs.to(device, non_blocking=True), targets.to(device, non_blocking=True)\n",
    "        with torch.autocast(device.type, enabled=enable_half):\n",
    "            outputs = model(inputs)\n",
    "            loss = criterion(outputs, targets)\n",
    "        scaler.scale(loss).backward()\n",
    "        scaler.step(optimizer)\n",
    "        scaler.update()\n",
    "        optimizer.zero_grad()\n",
    "\n",
    "        predicted = outputs.argmax(1)\n",
    "        total += targets.size(0)\n",
    "        correct += predicted.eq(targets).sum().item()\n",
    "    \n",
    "    return 100.0 * correct / total"
   ],
   "id": "31e09cb1cc818ccb",
   "outputs": [],
   "execution_count": 7
  },
  {
   "metadata": {
    "ExecuteTime": {
     "end_time": "2024-10-19T12:19:44.614463Z",
     "start_time": "2024-10-19T12:19:44.611823Z"
    }
   },
   "cell_type": "code",
   "source": [
    "@torch.inference_mode()\n",
    "def val():\n",
    "    model.eval()\n",
    "    correct = 0\n",
    "    total = 0\n",
    "\n",
    "    for inputs, targets in test_loader:\n",
    "        inputs, targets = inputs.to(device, non_blocking=True), targets.to(device, non_blocking=True)\n",
    "        with torch.autocast(device.type, enabled=enable_half):\n",
    "            outputs = model(inputs)\n",
    "\n",
    "        predicted = outputs.argmax(1)\n",
    "        total += targets.size(0)\n",
    "        correct += predicted.eq(targets).sum().item()\n",
    "    \n",
    "    return 100.0 * correct / total"
   ],
   "id": "f7a7a064e2707087",
   "outputs": [],
   "execution_count": 8
  },
  {
   "metadata": {
    "ExecuteTime": {
     "end_time": "2024-10-19T12:19:44.622722Z",
     "start_time": "2024-10-19T12:19:44.619312Z"
    }
   },
   "cell_type": "code",
   "source": [
    "@torch.inference_mode()\n",
    "def inference():\n",
    "    model.eval()\n",
    "    \n",
    "    labels = []\n",
    "    \n",
    "    for inputs, _ in test_loader:\n",
    "        inputs = inputs.to(device, non_blocking=True)\n",
    "        with torch.autocast(device.type, enabled=enable_half):\n",
    "            outputs = model(inputs)\n",
    "\n",
    "        predicted = outputs.argmax(1).tolist()\n",
    "        labels.extend(predicted)\n",
    "    \n",
    "    return labels"
   ],
   "id": "4472d31923873424",
   "outputs": [],
   "execution_count": 9
  },
  {
   "metadata": {
    "ExecuteTime": {
     "end_time": "2024-10-19T12:41:01.372526Z",
     "start_time": "2024-10-19T12:19:44.628814Z"
    }
   },
   "cell_type": "code",
   "source": [
    "best = 0.0\n",
    "epochs = list(range(50))\n",
    "with tqdm(epochs) as tbar:\n",
    "    for epoch in tbar:\n",
    "        train_acc = train()\n",
    "        val_acc = val()\n",
    "        scheduler.step(val_acc)\n",
    "        if val_acc > best:\n",
    "            best = val_acc\n",
    "        tbar.set_description(f\"Train: {train_acc:.2f}, Val: {val_acc:.2f}, Best: {best:.2f}\")"
   ],
   "id": "a71cfddcb779c8cd",
   "outputs": [
    {
     "name": "stderr",
     "output_type": "stream",
     "text": [
      "Train: 99.98, Val: 58.96, Best: 58.96: 100%|██████████| 50/50 [21:16<00:00, 25.53s/it]\n"
     ]
    }
   ],
   "execution_count": 10
  },
  {
   "metadata": {
    "ExecuteTime": {
     "end_time": "2024-10-19T12:41:02.198590Z",
     "start_time": "2024-10-19T12:41:01.418142Z"
    }
   },
   "cell_type": "code",
   "source": [
    "data = {\n",
    "    \"ID\": [],\n",
    "    \"target\": []\n",
    "}\n",
    "\n",
    "\n",
    "for i, label in enumerate(inference()):\n",
    "    data[\"ID\"].append(i)\n",
    "    data[\"target\"].append(label)\n",
    "\n",
    "df = pd.DataFrame(data)\n",
    "df.to_csv(\"submission.csv\", index=False)"
   ],
   "id": "4046e039a4f33924",
   "outputs": [],
   "execution_count": 11
  },
  {
   "metadata": {
    "ExecuteTime": {
     "end_time": "2024-10-19T12:41:02.212814Z",
     "start_time": "2024-10-19T12:41:02.209561Z"
    }
   },
   "cell_type": "code",
   "source": "",
   "id": "bcd4f416752c6ddf",
   "outputs": [],
   "execution_count": null
  }
 ],
 "metadata": {
  "kernelspec": {
   "display_name": "Python 3",
   "language": "python",
   "name": "python3"
  },
  "language_info": {
   "codemirror_mode": {
    "name": "ipython",
    "version": 2
   },
   "file_extension": ".py",
   "mimetype": "text/x-python",
   "name": "python",
   "nbconvert_exporter": "python",
   "pygments_lexer": "ipython2",
   "version": "2.7.6"
  }
 },
 "nbformat": 4,
 "nbformat_minor": 5
}
